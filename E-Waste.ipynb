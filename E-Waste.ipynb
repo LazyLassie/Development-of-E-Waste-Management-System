{
  "cells": [
    {
      "cell_type": "markdown",
      "metadata": {
        "id": "view-in-github",
        "colab_type": "text"
      },
      "source": [
        "<a href=\"https://colab.research.google.com/github/LazyLassie/Development-of-E-Waste-Management-System/blob/main/E_Waste_Management_System.ipynb\" target=\"_parent\"><img src=\"https://colab.research.google.com/assets/colab-badge.svg\" alt=\"Open In Colab\"/></a>"
      ]
    },
    {
      "cell_type": "code",
      "source": [
        "from google.colab import drive\n",
        "drive.mount('/content/drive')"
      ],
      "metadata": {
        "colab": {
          "base_uri": "https://localhost:8080/"
        },
        "id": "Y54wDMqmN5zl",
        "outputId": "64e9dbc6-0a26-4498-d22e-04f769e4c213"
      },
      "execution_count": null,
      "outputs": [
        {
          "output_type": "stream",
          "name": "stdout",
          "text": [
            "Drive already mounted at /content/drive; to attempt to forcibly remount, call drive.mount(\"/content/drive\", force_remount=True).\n"
          ]
        }
      ]
    },
    {
      "cell_type": "code",
      "execution_count": null,
      "metadata": {
        "colab": {
          "base_uri": "https://localhost:8080/"
        },
        "id": "1RJwB7DO4T0W",
        "outputId": "157dfcce-8b6a-4af4-d34f-e396bc00ad32"
      },
      "outputs": [
        {
          "output_type": "stream",
          "name": "stdout",
          "text": [
            "/content/drive/MyDrive\n"
          ]
        }
      ],
      "source": [
        "%cd \"/content/drive/MyDrive/\""
      ]
    },
    {
      "cell_type": "code",
      "execution_count": null,
      "metadata": {
        "colab": {
          "base_uri": "https://localhost:8080/"
        },
        "id": "qZYoaqIq4Fqs",
        "outputId": "63e91386-ff01-4f2e-d561-a6061edddebc"
      },
      "outputs": [
        {
          "output_type": "stream",
          "name": "stdout",
          "text": [
            "Mounted at /content/drive\n"
          ]
        }
      ],
      "source": [
        "from google.colab import files\n",
        "from google.colab import drive\n",
        "drive.mount('/content/drive')"
      ]
    },
    {
      "cell_type": "code",
      "execution_count": null,
      "metadata": {
        "id": "YMJt9rlW4ixX"
      },
      "outputs": [],
      "source": [
        "# !unzip recycling\\ waste.zip"
      ]
    },
    {
      "cell_type": "code",
      "execution_count": null,
      "metadata": {
        "id": "y1uIVGqD4p27"
      },
      "outputs": [],
      "source": [
        "import tensorflow as tf\n",
        "import numpy as np\n",
        "import matplotlib.pyplot as plt\n",
        "from keras.models import load_model"
      ]
    },
    {
      "cell_type": "code",
      "execution_count": null,
      "metadata": {
        "id": "73cocERU6Jpt",
        "colab": {
          "base_uri": "https://localhost:8080/"
        },
        "outputId": "2eb91de1-92d7-4215-92dd-3d7844d5da54"
      },
      "outputs": [
        {
          "output_type": "stream",
          "name": "stdout",
          "text": [
            "Found 8369 images belonging to 9 classes.\n"
          ]
        }
      ],
      "source": [
        "# let's prepare the data and generate the data\n",
        "\n",
        "from keras_preprocessing.image import ImageDataGenerator\n",
        "\n",
        "gen_train = ImageDataGenerator(rescale = 1/255, shear_range = 0.2, zoom_range = 0.2, \n",
        "                               brightness_range = (0.1, 0.5), horizontal_flip=True)\n",
        "\n",
        "train_data = gen_train.flow_from_directory(\"/content/drive/MyDrive/recycling waste\",\n",
        "                                           target_size = (224, 224), batch_size = 32, class_mode=\"categorical\")\n"
      ]
    },
    {
      "cell_type": "code",
      "execution_count": null,
      "metadata": {
        "id": "v7E5kRJl8BwH",
        "colab": {
          "base_uri": "https://localhost:8080/"
        },
        "outputId": "6e8161d5-9ec0-4e5b-bb7a-0ace7a29ec6d"
      },
      "outputs": [
        {
          "output_type": "stream",
          "name": "stdout",
          "text": [
            "Downloading data from https://storage.googleapis.com/tensorflow/keras-applications/vgg16/vgg16_weights_tf_dim_ordering_tf_kernels_notop.h5\n",
            "58889256/58889256 [==============================] - 3s 0us/step\n"
          ]
        }
      ],
      "source": [
        "# let's create a model\n",
        "# here i'm going to use VGG16 model's parameter to solve this problem\n",
        "\n",
        "from tensorflow.keras.applications.vgg16 import VGG16\n",
        "\n",
        "# here i'm going to take input shape, weights and bias from imagenet and include top False means\n",
        "# i want to add input, flatten and output layer by my self\n",
        "\n",
        "vgg16 = VGG16(input_shape = (224, 224, 3), weights = \"imagenet\", include_top = False)"
      ]
    },
    {
      "cell_type": "code",
      "execution_count": null,
      "metadata": {
        "id": "U5v7MH4-90yI"
      },
      "outputs": [],
      "source": [
        "# now vgg16 weights are already train so i don't want to train that weights again\n",
        "# so let's make trainable = False\n",
        "\n",
        "for layer in vgg16.layers:\n",
        "  layer.trainable = False"
      ]
    },
    {
      "cell_type": "code",
      "execution_count": null,
      "metadata": {
        "id": "v998AH3K-Dga"
      },
      "outputs": [],
      "source": [
        "# let's add flatten layer or let's connect VGG16 with our own flatten layer\n",
        "\n",
        "from tensorflow.keras import layers\n",
        "\n",
        "x = layers.Flatten()(vgg16.output)"
      ]
    },
    {
      "cell_type": "code",
      "source": [
        "from tensorflow.keras.models import load_model\n",
        "model= load_model('/content/drive/MyDrive/classifyWaste.h5')\n",
        "# result = model.fit(train_data, epochs = 28, steps_per_epoch=len(train_data))"
      ],
      "metadata": {
        "id": "Q-gqURxdQReZ"
      },
      "execution_count": null,
      "outputs": []
    },
    {
      "cell_type": "code",
      "execution_count": null,
      "metadata": {
        "id": "VlXSZUNA-Rrb",
        "colab": {
          "base_uri": "https://localhost:8080/"
        },
        "outputId": "f498a96f-f72e-48f3-dd29-2730e0d401ff"
      },
      "outputs": [
        {
          "output_type": "stream",
          "name": "stdout",
          "text": [
            "Model: \"model_1\"\n",
            "_________________________________________________________________\n",
            " Layer (type)                Output Shape              Param #   \n",
            "=================================================================\n",
            " input_1 (InputLayer)        [(None, 224, 224, 3)]     0         \n",
            "                                                                 \n",
            " block1_conv1 (Conv2D)       (None, 224, 224, 64)      1792      \n",
            "                                                                 \n",
            " block1_conv2 (Conv2D)       (None, 224, 224, 64)      36928     \n",
            "                                                                 \n",
            " block1_pool (MaxPooling2D)  (None, 112, 112, 64)      0         \n",
            "                                                                 \n",
            " block2_conv1 (Conv2D)       (None, 112, 112, 128)     73856     \n",
            "                                                                 \n",
            " block2_conv2 (Conv2D)       (None, 112, 112, 128)     147584    \n",
            "                                                                 \n",
            " block2_pool (MaxPooling2D)  (None, 56, 56, 128)       0         \n",
            "                                                                 \n",
            " block3_conv1 (Conv2D)       (None, 56, 56, 256)       295168    \n",
            "                                                                 \n",
            " block3_conv2 (Conv2D)       (None, 56, 56, 256)       590080    \n",
            "                                                                 \n",
            " block3_conv3 (Conv2D)       (None, 56, 56, 256)       590080    \n",
            "                                                                 \n",
            " block3_pool (MaxPooling2D)  (None, 28, 28, 256)       0         \n",
            "                                                                 \n",
            " block4_conv1 (Conv2D)       (None, 28, 28, 512)       1180160   \n",
            "                                                                 \n",
            " block4_conv2 (Conv2D)       (None, 28, 28, 512)       2359808   \n",
            "                                                                 \n",
            " block4_conv3 (Conv2D)       (None, 28, 28, 512)       2359808   \n",
            "                                                                 \n",
            " block4_pool (MaxPooling2D)  (None, 14, 14, 512)       0         \n",
            "                                                                 \n",
            " block5_conv1 (Conv2D)       (None, 14, 14, 512)       2359808   \n",
            "                                                                 \n",
            " block5_conv2 (Conv2D)       (None, 14, 14, 512)       2359808   \n",
            "                                                                 \n",
            " block5_conv3 (Conv2D)       (None, 14, 14, 512)       2359808   \n",
            "                                                                 \n",
            " block5_pool (MaxPooling2D)  (None, 7, 7, 512)         0         \n",
            "                                                                 \n",
            " flatten (Flatten)           (None, 25088)             0         \n",
            "                                                                 \n",
            " dense_1 (Dense)             (None, 9)                 225801    \n",
            "                                                                 \n",
            "=================================================================\n",
            "Total params: 14,940,489\n",
            "Trainable params: 225,801\n",
            "Non-trainable params: 14,714,688\n",
            "_________________________________________________________________\n"
          ]
        }
      ],
      "source": [
        "# now let's add output layers or prediction layer\n",
        "\n",
        "prediction = layers.Dense(units = 9, activation=\"softmax\")(x)\n",
        "\n",
        "# creating a model object\n",
        "\n",
        "model = tf.keras.models.Model(inputs = vgg16.input, outputs=prediction)\n",
        "model.summary()"
      ]
    },
    {
      "cell_type": "code",
      "execution_count": null,
      "metadata": {
        "id": "xiJfS-Wf-l2r",
        "colab": {
          "base_uri": "https://localhost:8080/"
        },
        "outputId": "c2820fb1-31a5-4be3-e3d1-b9b287dab636"
      },
      "outputs": [
        {
          "output_type": "stream",
          "name": "stdout",
          "text": [
            "Epoch 1/28\n",
            "262/262 [==============================] - 6047s 23s/step - loss: 1.9211 - accuracy: 0.3380\n",
            "Epoch 2/28\n",
            "262/262 [==============================] - 167s 637ms/step - loss: 1.6162 - accuracy: 0.4483\n",
            "Epoch 3/28\n",
            "262/262 [==============================] - 166s 632ms/step - loss: 1.4634 - accuracy: 0.4970\n",
            "Epoch 4/28\n",
            "262/262 [==============================] - 165s 629ms/step - loss: 1.3780 - accuracy: 0.5273\n",
            "Epoch 5/28\n",
            "262/262 [==============================] - 166s 631ms/step - loss: 1.3176 - accuracy: 0.5482\n",
            "Epoch 6/28\n",
            "262/262 [==============================] - 166s 633ms/step - loss: 1.2715 - accuracy: 0.5627\n",
            "Epoch 7/28\n",
            "262/262 [==============================] - 166s 634ms/step - loss: 1.2653 - accuracy: 0.5724\n",
            "Epoch 8/28\n",
            "262/262 [==============================] - 166s 634ms/step - loss: 1.2169 - accuracy: 0.5842\n",
            "Epoch 9/28\n",
            "262/262 [==============================] - 165s 631ms/step - loss: 1.2011 - accuracy: 0.5936\n",
            "Epoch 10/28\n",
            "262/262 [==============================] - 166s 633ms/step - loss: 1.1712 - accuracy: 0.5968\n",
            "Epoch 11/28\n",
            "262/262 [==============================] - 166s 632ms/step - loss: 1.1154 - accuracy: 0.6160\n",
            "Epoch 12/28\n",
            "262/262 [==============================] - 166s 634ms/step - loss: 1.0693 - accuracy: 0.6317\n",
            "Epoch 13/28\n",
            "262/262 [==============================] - 165s 630ms/step - loss: 1.0396 - accuracy: 0.6406\n",
            "Epoch 14/28\n",
            "262/262 [==============================] - 166s 635ms/step - loss: 1.1051 - accuracy: 0.6236\n",
            "Epoch 15/28\n",
            "262/262 [==============================] - 167s 636ms/step - loss: 1.0216 - accuracy: 0.6479\n",
            "Epoch 16/28\n",
            "262/262 [==============================] - 166s 633ms/step - loss: 1.0179 - accuracy: 0.6516\n",
            "Epoch 17/28\n",
            "262/262 [==============================] - 167s 638ms/step - loss: 1.0291 - accuracy: 0.6466\n",
            "Epoch 18/28\n",
            "262/262 [==============================] - 166s 633ms/step - loss: 0.9813 - accuracy: 0.6595\n",
            "Epoch 19/28\n",
            "262/262 [==============================] - 165s 631ms/step - loss: 0.9508 - accuracy: 0.6728\n",
            "Epoch 20/28\n",
            "262/262 [==============================] - 167s 637ms/step - loss: 0.9720 - accuracy: 0.6605\n",
            "Epoch 21/28\n",
            "262/262 [==============================] - 168s 639ms/step - loss: 0.9539 - accuracy: 0.6687\n",
            "Epoch 22/28\n",
            "262/262 [==============================] - 167s 638ms/step - loss: 0.9204 - accuracy: 0.6787\n",
            "Epoch 23/28\n",
            "262/262 [==============================] - 166s 634ms/step - loss: 0.9487 - accuracy: 0.6721\n",
            "Epoch 24/28\n",
            "262/262 [==============================] - 166s 632ms/step - loss: 0.9003 - accuracy: 0.6835\n",
            "Epoch 25/28\n",
            "262/262 [==============================] - 166s 633ms/step - loss: 0.9213 - accuracy: 0.6822\n",
            "Epoch 26/28\n",
            "262/262 [==============================] - 165s 630ms/step - loss: 0.9013 - accuracy: 0.6917\n",
            "Epoch 27/28\n",
            "262/262 [==============================] - 165s 629ms/step - loss: 0.8950 - accuracy: 0.6954\n",
            "Epoch 28/28\n",
            "262/262 [==============================] - 165s 627ms/step - loss: 0.8689 - accuracy: 0.7034\n"
          ]
        }
      ],
      "source": [
        "# now let's compile the model\n",
        "\n",
        "model.compile(optimizer=\"adam\", loss=\"categorical_crossentropy\", metrics =[\"accuracy\"])\n",
        "\n",
        "result = model.fit(train_data, epochs = 28, steps_per_epoch=len(train_data))\n"
      ]
    },
    {
      "cell_type": "code",
      "execution_count": null,
      "metadata": {
        "id": "x9ODKg5O_F4-"
      },
      "outputs": [],
      "source": [
        "from tensorflow.keras.preprocessing import image\n",
        "output_class = [\"batteries\", \"clothes\", \"e-waste\", \"glass\", \"light blubs\", \"metal\", \"organic\", \"paper\", \"plastic\"]\n",
        "def waste_prediction(new_image):\n",
        "  test_image = image.load_img(new_image, target_size = (224,224))\n",
        "  plt.axis(\"off\")\n",
        "  plt.imshow(test_image)\n",
        "  plt.show()\n",
        " \n",
        "  test_image = image.img_to_array(test_image) / 255\n",
        "  test_image = np.expand_dims(test_image, axis=0)\n",
        "\n",
        "  predicted_array = model.predict(test_image)\n",
        "  predicted_value = output_class[np.argmax(predicted_array)]\n",
        "  predicted_accuracy = round(np.max(predicted_array) * 100, 2)\n",
        "\n",
        "  print(\"Your waste material is \", predicted_value, \" with \", predicted_accuracy, \" % accuracy\")\n",
        "  \n",
        "\n"
      ]
    },
    {
      "cell_type": "code",
      "source": [
        "from tensorflow.keras.models import load_model\n",
        "model.save('/content/drive/MyDrive/SavedModels/classify1.h5')"
      ],
      "metadata": {
        "id": "FPQqKNkD6vFZ"
      },
      "execution_count": null,
      "outputs": []
    },
    {
      "cell_type": "code",
      "execution_count": null,
      "metadata": {
        "id": "tkwu-yylg73e"
      },
      "outputs": [],
      "source": [
        "uploaded = files.upload()\n",
        "waste_prediction(\"test6.jpg\")"
      ]
    },
    {
      "cell_type": "code",
      "execution_count": null,
      "metadata": {
        "id": "KPEbBHaivBKR"
      },
      "outputs": [],
      "source": [
        "# plt.title(\"Accuracy\")\n",
        "# plt.plot(result.history[\"accuracy\"])\n",
        "# plt.show()"
      ]
    },
    {
      "cell_type": "code",
      "execution_count": null,
      "metadata": {
        "id": "n8nWUraqwUZ4"
      },
      "outputs": [],
      "source": [
        "# plt.title(\"Loss\")\n",
        "# plt.plot(result.history[\"loss\"])\n",
        "# plt.show()"
      ]
    },
    {
      "cell_type": "code",
      "execution_count": null,
      "metadata": {
        "id": "C6bfVNY5u7bB"
      },
      "outputs": [],
      "source": [
        "model.save(\"classifyWaste.h5\")"
      ]
    }
  ],
  "metadata": {
    "accelerator": "GPU",
    "colab": {
      "provenance": [],
      "include_colab_link": true
    },
    "kernelspec": {
      "display_name": "Python 3",
      "language": "python",
      "name": "python3"
    },
    "language_info": {
      "codemirror_mode": {
        "name": "ipython",
        "version": 3
      },
      "file_extension": ".py",
      "mimetype": "text/x-python",
      "name": "python",
      "nbconvert_exporter": "python",
      "pygments_lexer": "ipython3",
      "version": "3.8.5"
    }
  },
  "nbformat": 4,
  "nbformat_minor": 0
}
